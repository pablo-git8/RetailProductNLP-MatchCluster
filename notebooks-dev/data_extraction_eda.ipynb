{
 "cells": [
  {
   "cell_type": "markdown",
   "metadata": {},
   "source": [
    "# Data Extraction and EDA\n",
    "\n",
    "This development notebook outlines the steps for data extraction and exploratory data analysis (EDA). The dataset is stored in a local folder named \"data/raw,\" containing two CSV files representing products from Retailer A and Retailer B. Our goal is to extract and explore these datasets in preparation for entity matching and clustering.\n",
    "\n",
    "This notebook contains code snippets that will be included in the `data_extraction.py` and `data_processing.py` scripts. These scripts are integral components of an automated pipeline designed for data extraction and processing."
   ]
  },
  {
   "cell_type": "code",
   "execution_count": 11,
   "metadata": {},
   "outputs": [],
   "source": [
    "# Imports for data extraction and EDA\n",
    "import pandas as pd"
   ]
  },
  {
   "cell_type": "markdown",
   "metadata": {},
   "source": [
    "## Reading RetalierA and RetailerB\n",
    "\n",
    "In this section we will read the Retailer A and Retailer B data separately and later merge them to have a combined dataset that can be useful for later analysis and processing."
   ]
  },
  {
   "cell_type": "code",
   "execution_count": 12,
   "metadata": {},
   "outputs": [
    {
     "data": {
      "text/html": [
       "<div>\n",
       "<style scoped>\n",
       "    .dataframe tbody tr th:only-of-type {\n",
       "        vertical-align: middle;\n",
       "    }\n",
       "\n",
       "    .dataframe tbody tr th {\n",
       "        vertical-align: top;\n",
       "    }\n",
       "\n",
       "    .dataframe thead th {\n",
       "        text-align: right;\n",
       "    }\n",
       "</style>\n",
       "<table border=\"1\" class=\"dataframe\">\n",
       "  <thead>\n",
       "    <tr style=\"text-align: right;\">\n",
       "      <th></th>\n",
       "      <th>unique_id</th>\n",
       "      <th>title</th>\n",
       "      <th>description</th>\n",
       "      <th>price</th>\n",
       "    </tr>\n",
       "  </thead>\n",
       "  <tbody>\n",
       "    <tr>\n",
       "      <th>0</th>\n",
       "      <td>1</td>\n",
       "      <td>Linksys EtherFast 8-Port 10/100 Switch - EZXS88W</td>\n",
       "      <td>Linksys EtherFast 8-Port 10/100 Switch - EZXS8...</td>\n",
       "      <td>$44.00</td>\n",
       "    </tr>\n",
       "    <tr>\n",
       "      <th>1</th>\n",
       "      <td>2</td>\n",
       "      <td>Linksys EtherFast10/100 5-Port Auto-Sensing Sw...</td>\n",
       "      <td>Linksys EtherFast10/100 5-Port Auto-Sensing Sw...</td>\n",
       "      <td>$29.00</td>\n",
       "    </tr>\n",
       "    <tr>\n",
       "      <th>2</th>\n",
       "      <td>3</td>\n",
       "      <td>Netgear ProSafe 5 Port 10/100 Desktop Switch -...</td>\n",
       "      <td>Netgear ProSafe 5 Port 10/100 Desktop Switch -...</td>\n",
       "      <td>$40.00</td>\n",
       "    </tr>\n",
       "    <tr>\n",
       "      <th>3</th>\n",
       "      <td>4</td>\n",
       "      <td>Belkin F3H982-10 Pro Series High Integrity 10 ...</td>\n",
       "      <td>Belkin F3H982-10 Pro Series High Integrity 10 ...</td>\n",
       "      <td>NaN</td>\n",
       "    </tr>\n",
       "    <tr>\n",
       "      <th>4</th>\n",
       "      <td>5</td>\n",
       "      <td>Netgear Prosafe 16 Port 10/100 Rackmount Switc...</td>\n",
       "      <td>Netgear Prosafe 16 Port 10/100 Rackmount Switc...</td>\n",
       "      <td>$131.00</td>\n",
       "    </tr>\n",
       "  </tbody>\n",
       "</table>\n",
       "</div>"
      ],
      "text/plain": [
       "   unique_id                                              title  \\\n",
       "0          1   Linksys EtherFast 8-Port 10/100 Switch - EZXS88W   \n",
       "1          2  Linksys EtherFast10/100 5-Port Auto-Sensing Sw...   \n",
       "2          3  Netgear ProSafe 5 Port 10/100 Desktop Switch -...   \n",
       "3          4  Belkin F3H982-10 Pro Series High Integrity 10 ...   \n",
       "4          5  Netgear Prosafe 16 Port 10/100 Rackmount Switc...   \n",
       "\n",
       "                                         description    price  \n",
       "0  Linksys EtherFast 8-Port 10/100 Switch - EZXS8...   $44.00  \n",
       "1  Linksys EtherFast10/100 5-Port Auto-Sensing Sw...   $29.00  \n",
       "2  Netgear ProSafe 5 Port 10/100 Desktop Switch -...   $40.00  \n",
       "3  Belkin F3H982-10 Pro Series High Integrity 10 ...      NaN  \n",
       "4  Netgear Prosafe 16 Port 10/100 Rackmount Switc...  $131.00  "
      ]
     },
     "execution_count": 12,
     "metadata": {},
     "output_type": "execute_result"
    }
   ],
   "source": [
    "# Retailer A data\n",
    "retA_data = pd.read_csv('../data/raw/retailerA.csv')\n",
    "retA_data.head()"
   ]
  },
  {
   "cell_type": "code",
   "execution_count": 13,
   "metadata": {},
   "outputs": [
    {
     "name": "stdout",
     "output_type": "stream",
     "text": [
      "<class 'pandas.core.frame.DataFrame'>\n",
      "RangeIndex: 1081 entries, 0 to 1080\n",
      "Data columns (total 4 columns):\n",
      " #   Column       Non-Null Count  Dtype \n",
      "---  ------       --------------  ----- \n",
      " 0   unique_id    1081 non-null   int64 \n",
      " 1   title        1081 non-null   object\n",
      " 2   description  1081 non-null   object\n",
      " 3   price        418 non-null    object\n",
      "dtypes: int64(1), object(3)\n",
      "memory usage: 33.9+ KB\n"
     ]
    }
   ],
   "source": [
    "retA_data.info()"
   ]
  },
  {
   "cell_type": "code",
   "execution_count": 14,
   "metadata": {},
   "outputs": [
    {
     "data": {
      "text/html": [
       "<div>\n",
       "<style scoped>\n",
       "    .dataframe tbody tr th:only-of-type {\n",
       "        vertical-align: middle;\n",
       "    }\n",
       "\n",
       "    .dataframe tbody tr th {\n",
       "        vertical-align: top;\n",
       "    }\n",
       "\n",
       "    .dataframe thead th {\n",
       "        text-align: right;\n",
       "    }\n",
       "</style>\n",
       "<table border=\"1\" class=\"dataframe\">\n",
       "  <thead>\n",
       "    <tr style=\"text-align: right;\">\n",
       "      <th></th>\n",
       "      <th>unique_id</th>\n",
       "      <th>title</th>\n",
       "      <th>description</th>\n",
       "      <th>price</th>\n",
       "    </tr>\n",
       "  </thead>\n",
       "  <tbody>\n",
       "    <tr>\n",
       "      <th>0</th>\n",
       "      <td>1</td>\n",
       "      <td>Linksys EtherFast EZXS88W Ethernet Switch - EZ...</td>\n",
       "      <td>Linksys EtherFast 8-Port 10/100 Switch (New/Wo...</td>\n",
       "      <td>NaN</td>\n",
       "    </tr>\n",
       "    <tr>\n",
       "      <th>1</th>\n",
       "      <td>2</td>\n",
       "      <td>Linksys EtherFast EZXS55W Ethernet Switch</td>\n",
       "      <td>5 x 10/100Base-TX LAN</td>\n",
       "      <td>NaN</td>\n",
       "    </tr>\n",
       "    <tr>\n",
       "      <th>2</th>\n",
       "      <td>3</td>\n",
       "      <td>Netgear ProSafe FS105 Ethernet Switch - FS105NA</td>\n",
       "      <td>NETGEAR FS105 Prosafe 5 Port 10/100 Desktop Sw...</td>\n",
       "      <td>NaN</td>\n",
       "    </tr>\n",
       "    <tr>\n",
       "      <th>3</th>\n",
       "      <td>4</td>\n",
       "      <td>Belkin Pro Series High Integrity VGA/SVGA Moni...</td>\n",
       "      <td>1 x HD-15 - 1 x HD-15 - 10ft - Beige</td>\n",
       "      <td>NaN</td>\n",
       "    </tr>\n",
       "    <tr>\n",
       "      <th>4</th>\n",
       "      <td>5</td>\n",
       "      <td>Netgear ProSafe JFS516 Ethernet Switch</td>\n",
       "      <td>Netgear ProSafe 16 Port 10/100 Rackmount Switc...</td>\n",
       "      <td>NaN</td>\n",
       "    </tr>\n",
       "  </tbody>\n",
       "</table>\n",
       "</div>"
      ],
      "text/plain": [
       "   unique_id                                              title  \\\n",
       "0          1  Linksys EtherFast EZXS88W Ethernet Switch - EZ...   \n",
       "1          2          Linksys EtherFast EZXS55W Ethernet Switch   \n",
       "2          3    Netgear ProSafe FS105 Ethernet Switch - FS105NA   \n",
       "3          4  Belkin Pro Series High Integrity VGA/SVGA Moni...   \n",
       "4          5             Netgear ProSafe JFS516 Ethernet Switch   \n",
       "\n",
       "                                         description price  \n",
       "0  Linksys EtherFast 8-Port 10/100 Switch (New/Wo...   NaN  \n",
       "1                              5 x 10/100Base-TX LAN   NaN  \n",
       "2  NETGEAR FS105 Prosafe 5 Port 10/100 Desktop Sw...   NaN  \n",
       "3               1 x HD-15 - 1 x HD-15 - 10ft - Beige   NaN  \n",
       "4  Netgear ProSafe 16 Port 10/100 Rackmount Switc...   NaN  "
      ]
     },
     "execution_count": 14,
     "metadata": {},
     "output_type": "execute_result"
    }
   ],
   "source": [
    "# Retailer A data\n",
    "retB_data = pd.read_csv('../data/raw/retailerB.csv')\n",
    "retB_data.head()"
   ]
  },
  {
   "cell_type": "code",
   "execution_count": 15,
   "metadata": {},
   "outputs": [
    {
     "name": "stdout",
     "output_type": "stream",
     "text": [
      "<class 'pandas.core.frame.DataFrame'>\n",
      "RangeIndex: 1092 entries, 0 to 1091\n",
      "Data columns (total 4 columns):\n",
      " #   Column       Non-Null Count  Dtype \n",
      "---  ------       --------------  ----- \n",
      " 0   unique_id    1092 non-null   int64 \n",
      " 1   title        1092 non-null   object\n",
      " 2   description  646 non-null    object\n",
      " 3   price        590 non-null    object\n",
      "dtypes: int64(1), object(3)\n",
      "memory usage: 34.3+ KB\n"
     ]
    }
   ],
   "source": [
    "retB_data.info()"
   ]
  },
  {
   "cell_type": "markdown",
   "metadata": {},
   "source": [
    "## Datasets (A and B) Structure\n",
    "\n",
    "| Column Name  | Data Type      | Description                                       |\n",
    "|--------------|----------------|---------------------------------------------------|\n",
    "| `unique_id`    | Numeric (int)  | Unique identifier for each product record.       |\n",
    "| `title`        | Text (string)  | Title or name of the product.                    |\n",
    "| `description`  | Text (string)  | Description of the product.                      |\n",
    "| `price`     | Numeric (float)| Price of the product.                            |\n",
    "\n",
    "This table provides an overview of each column in the dataset along with its respective data type and a brief description of its content."
   ]
  },
  {
   "cell_type": "code",
   "execution_count": 18,
   "metadata": {},
   "outputs": [
    {
     "data": {
      "text/html": [
       "<div>\n",
       "<style scoped>\n",
       "    .dataframe tbody tr th:only-of-type {\n",
       "        vertical-align: middle;\n",
       "    }\n",
       "\n",
       "    .dataframe tbody tr th {\n",
       "        vertical-align: top;\n",
       "    }\n",
       "\n",
       "    .dataframe thead th {\n",
       "        text-align: right;\n",
       "    }\n",
       "</style>\n",
       "<table border=\"1\" class=\"dataframe\">\n",
       "  <thead>\n",
       "    <tr style=\"text-align: right;\">\n",
       "      <th></th>\n",
       "      <th>unique_id</th>\n",
       "      <th>title</th>\n",
       "      <th>description</th>\n",
       "      <th>price</th>\n",
       "    </tr>\n",
       "  </thead>\n",
       "  <tbody>\n",
       "    <tr>\n",
       "      <th>0</th>\n",
       "      <td>1</td>\n",
       "      <td>Linksys EtherFast 8-Port 10/100 Switch - EZXS88W</td>\n",
       "      <td>Linksys EtherFast 8-Port 10/100 Switch - EZXS8...</td>\n",
       "      <td>$44.00</td>\n",
       "    </tr>\n",
       "    <tr>\n",
       "      <th>1</th>\n",
       "      <td>2</td>\n",
       "      <td>Linksys EtherFast10/100 5-Port Auto-Sensing Sw...</td>\n",
       "      <td>Linksys EtherFast10/100 5-Port Auto-Sensing Sw...</td>\n",
       "      <td>$29.00</td>\n",
       "    </tr>\n",
       "    <tr>\n",
       "      <th>2</th>\n",
       "      <td>3</td>\n",
       "      <td>Netgear ProSafe 5 Port 10/100 Desktop Switch -...</td>\n",
       "      <td>Netgear ProSafe 5 Port 10/100 Desktop Switch -...</td>\n",
       "      <td>$40.00</td>\n",
       "    </tr>\n",
       "    <tr>\n",
       "      <th>3</th>\n",
       "      <td>4</td>\n",
       "      <td>Belkin F3H982-10 Pro Series High Integrity 10 ...</td>\n",
       "      <td>Belkin F3H982-10 Pro Series High Integrity 10 ...</td>\n",
       "      <td>NaN</td>\n",
       "    </tr>\n",
       "    <tr>\n",
       "      <th>4</th>\n",
       "      <td>5</td>\n",
       "      <td>Netgear Prosafe 16 Port 10/100 Rackmount Switc...</td>\n",
       "      <td>Netgear Prosafe 16 Port 10/100 Rackmount Switc...</td>\n",
       "      <td>$131.00</td>\n",
       "    </tr>\n",
       "  </tbody>\n",
       "</table>\n",
       "</div>"
      ],
      "text/plain": [
       "   unique_id                                              title  \\\n",
       "0          1   Linksys EtherFast 8-Port 10/100 Switch - EZXS88W   \n",
       "1          2  Linksys EtherFast10/100 5-Port Auto-Sensing Sw...   \n",
       "2          3  Netgear ProSafe 5 Port 10/100 Desktop Switch -...   \n",
       "3          4  Belkin F3H982-10 Pro Series High Integrity 10 ...   \n",
       "4          5  Netgear Prosafe 16 Port 10/100 Rackmount Switc...   \n",
       "\n",
       "                                         description    price  \n",
       "0  Linksys EtherFast 8-Port 10/100 Switch - EZXS8...   $44.00  \n",
       "1  Linksys EtherFast10/100 5-Port Auto-Sensing Sw...   $29.00  \n",
       "2  Netgear ProSafe 5 Port 10/100 Desktop Switch -...   $40.00  \n",
       "3  Belkin F3H982-10 Pro Series High Integrity 10 ...      NaN  \n",
       "4  Netgear Prosafe 16 Port 10/100 Rackmount Switc...  $131.00  "
      ]
     },
     "execution_count": 18,
     "metadata": {},
     "output_type": "execute_result"
    }
   ],
   "source": [
    "# Combining data from RetA and RetB\n",
    "combined_data = pd.concat([retA_data, retB_data])\n",
    "combined_data.head()"
   ]
  },
  {
   "cell_type": "code",
   "execution_count": 19,
   "metadata": {},
   "outputs": [
    {
     "name": "stdout",
     "output_type": "stream",
     "text": [
      "<class 'pandas.core.frame.DataFrame'>\n",
      "Index: 2173 entries, 0 to 1091\n",
      "Data columns (total 4 columns):\n",
      " #   Column       Non-Null Count  Dtype \n",
      "---  ------       --------------  ----- \n",
      " 0   unique_id    2173 non-null   int64 \n",
      " 1   title        2173 non-null   object\n",
      " 2   description  1727 non-null   object\n",
      " 3   price        1008 non-null   object\n",
      "dtypes: int64(1), object(3)\n",
      "memory usage: 84.9+ KB\n"
     ]
    }
   ],
   "source": [
    "combined_data.info()"
   ]
  },
  {
   "cell_type": "markdown",
   "metadata": {},
   "source": [
    "## Combined Dataset Structure\n",
    "\n",
    "| Column Name  | Data Type         | Description                                             | Number of Null Values | Number of Total Records | Remarks |\n",
    "|--------------|-------------------|---------------------------------------------------------|-----------------------|-------------------------|-----------------------|\n",
    "| `unique_id`   | Numeric (int64)   | Unique identifier for each product record.              | 0                     | 2173                    | None                  |\n",
    "| `title`        | Text (object)     | Title or name of the product.                           | 0                     | 2173                    | None                  |\n",
    "| `description`  | Text (object)     | Description of the product.                             | 446                   | 2173                    | Some descriptions are missing. |\n",
    "| `price`        | Text (object)     | Price of the product.                                   | 1165                  | 2173                    | Many price values are missing. |\n",
    "\n",
    "This table provides a comprehensive overview of the dataset, highlighting the columns, their data types, descriptions, the number of null values in each column, the total number of records, and relevant information about the dataset. It is evident that the `description` and `price` columns have a significant number of missing values."
   ]
  },
  {
   "cell_type": "markdown",
   "metadata": {},
   "source": [
    "## Feature Selection\n",
    "\n",
    "Based on our preliminary data assessment, and for the scope of this case study, we have decided to focus exclusively on the `title` column of the dataset. This column provides a comprehensive description of the product and does not contain any missing values. Therefore, for the development of this case study, we will exclusively utilize the `title` column as it adequately serves our purposes."
   ]
  },
  {
   "cell_type": "code",
   "execution_count": null,
   "metadata": {},
   "outputs": [],
   "source": [
    "# Intermediate save for development purpose\n",
    "combined_data.to_csv('../data/raw/combined_data_raw.csv')"
   ]
  },
  {
   "cell_type": "markdown",
   "metadata": {},
   "source": [
    "----"
   ]
  },
  {
   "cell_type": "markdown",
   "metadata": {},
   "source": [
    "### **AI tool usage for this notebook**\n",
    "\n",
    "#### ChatGPT 3.5\n",
    "* Improving makrdown annotations and table descriptions"
   ]
  }
 ],
 "metadata": {
  "kernelspec": {
   "display_name": "python311",
   "language": "python",
   "name": "python3"
  },
  "language_info": {
   "codemirror_mode": {
    "name": "ipython",
    "version": 3
   },
   "file_extension": ".py",
   "mimetype": "text/x-python",
   "name": "python",
   "nbconvert_exporter": "python",
   "pygments_lexer": "ipython3",
   "version": "3.11.4"
  }
 },
 "nbformat": 4,
 "nbformat_minor": 2
}
