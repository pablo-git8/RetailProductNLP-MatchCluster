{
 "cells": [
  {
   "cell_type": "markdown",
   "metadata": {},
   "source": [
    "# Entity Matching\n",
    "\n",
    "This notebook focuses on the entity matching process, which involves comparing and matching products from retailer A and retailer B. The steps in this notebook for development will include:\n",
    "\n",
    "* Preprocess and tokenize the title text from products in both retailer A and retailer B.\n",
    "* Creating TF-IDF matrices for the tokenized text data. These matrices are crucial for measuring text similarity.\n",
    "* Computing cosine similarities using the TF-IDF matrices to assess the similarity between the titles of products from both retailers.\n",
    "\n",
    "The primary goal is to generate a DataFrame containing columns for `titleA`, `titleB`, and `Similarity` scores. This DataFrame facilitates the entity matching process, helping identify matching products between the two retailers.\n",
    "\n",
    "As part of this notebook, we will also develop reusable functions such as `../tfidf_generation/generate_tfidf_matrix` and `../cosine_similarity/compute_cosine_similarities` to incorporate them seamlessly into the entity matching pipeline steps. These functions will enhance the modularity and maintainability of the entity matching process."
   ]
  },
  {
   "cell_type": "markdown",
   "metadata": {},
   "source": [
    "#### Installing necessary libraries"
   ]
  },
  {
   "cell_type": "markdown",
   "metadata": {},
   "source": [
    "```python\n",
    "pip install sklearn\n",
    "```"
   ]
  },
  {
   "cell_type": "markdown",
   "metadata": {},
   "source": [
    "### Setting up paths for function imports"
   ]
  },
  {
   "cell_type": "code",
   "execution_count": 1,
   "metadata": {},
   "outputs": [],
   "source": [
    "import sys\n",
    "sys.path.insert(0, '../scripts/')"
   ]
  },
  {
   "cell_type": "code",
   "execution_count": 2,
   "metadata": {},
   "outputs": [],
   "source": [
    "# Imports for entity matching\n",
    "import pandas as pd\n",
    "from text_tokenization import tokenizeText\n",
    "import matplotlib.pyplot as plt\n",
    "from sklearn.metrics.pairwise import cosine_similarity\n",
    "from sklearn.feature_extraction.text import TfidfVectorizer"
   ]
  },
  {
   "cell_type": "code",
   "execution_count": 3,
   "metadata": {},
   "outputs": [],
   "source": [
    "retA_data_tokens = pd.read_csv('../data/processed/retailerA_tokens.csv') # Retailer A data with titles and tokens\n",
    "retB_data_tokens = pd.read_csv('../data/processed/retailerB_tokens.csv') # Retailer B data with titles and tokens\n",
    "combined_data_tokens = pd.read_csv('../data/processed/combined_data_tokens.csv') # Combined data with titles and tokens"
   ]
  },
  {
   "cell_type": "markdown",
   "metadata": {},
   "source": [
    "## Vectorizer Configuration\n",
    "\n",
    "In this step, we will configure the vectorizer using the `sklearn.feature_extraction.text` TfidfVectorizer, which will incorporate the `tokenizeText` tokenizer function. Yhis is a class in the scikit-learn library that converts a collection of raw documents into a matrix of TF-IDF features. TF-IDF stands for Term Frequency-Inverse Document Frequency, a common algorithm for transforming text into a meaningful representation of numbers which is used for various tasks in text classification.\n",
    "\n",
    "As a base vectorizer, we will include the default parameters for the TF-IDF representation but will include the option to modify this parameters based on user input in development. Here's a summary of the main parameters of `TfidfVectorizer` and their default values as of scikit-learn version 0.24:\n",
    "\n",
    "1. **`input`**: The type of input expected. Default is `'content'`.\n",
    "\n",
    "2. **`encoding`**: The encoding to use when reading the input. Default is `'utf-8'`.\n",
    "\n",
    "3. **`decode_error`**: Strategy to use when encountering a decoding error. Default is `'strict'`.\n",
    "\n",
    "4. **`strip_accents`**: Remove accents during preprocessing. Default is `None`, which means no strip.\n",
    "\n",
    "5. **`lowercase`**: Convert all characters to lowercase before tokenizing. Default is `True`.\n",
    "\n",
    "6. **`preprocessor`**: Custom preprocessor. Default is `None`.\n",
    "\n",
    "7. **`tokenizer`**: Custom tokenizer. Default is `None`.\n",
    "\n",
    "8. **`analyzer`**: Feature extraction method. Default is `'word'`.\n",
    "\n",
    "9. **`stop_words`**: Words to be ignored. Default is `None`.\n",
    "\n",
    "10. **`token_pattern`**: Regular expression denoting what constitutes a “token.” Default is `r\"(?u)\\b\\w\\w+\\b\"`.\n",
    "\n",
    "11. **`ngram_range`**: The lower and upper boundary of the n-grams to be extracted. Default is `(1, 1)` (unigrams only).\n",
    "\n",
    "12. **`max_df`**: Maximum document frequency for the given corpus. Default is `1.0`.\n",
    "\n",
    "13. **`min_df`**: Minimum document frequency for the given corpus. Default is `1`.\n",
    "\n",
    "14. **`max_features`**: Maximum number of features to keep. Default is `None`.\n",
    "\n",
    "15. **`vocabulary`**: A priori vocabulary. Default is `None`.\n",
    "\n",
    "16. **`binary`**: If `True`, all non-zero term counts are set to 1. Default is `False`.\n",
    "\n",
    "17. **`dtype`**: Type of the matrix returned by fit_transform() or transform(). Default is `numpy.float64`.\n",
    "\n",
    "18. **`norm`**: Normalization of the term vectors. Default is `'l2'`.\n",
    "\n",
    "19. **`use_idf`**: Enable inverse-document-frequency reweighting. Default is `True`.\n",
    "\n",
    "20. **`smooth_idf`**: Smooth idf weights. Default is `True`.\n",
    "\n",
    "21. **`sublinear_tf`**: Apply sublinear tf scaling. Default is `False`."
   ]
  },
  {
   "cell_type": "code",
   "execution_count": 4,
   "metadata": {},
   "outputs": [],
   "source": [
    "# TF-IDF Vectorization with `tokenizeText` function\n",
    "tfidf_vectorizer = TfidfVectorizer(tokenizer=lambda text: tokenizeText(text, lemmas=False))"
   ]
  },
  {
   "cell_type": "code",
   "execution_count": 5,
   "metadata": {},
   "outputs": [
    {
     "name": "stderr",
     "output_type": "stream",
     "text": [
      "c:\\Users\\pablo\\.conda\\envs\\python311\\Lib\\site-packages\\sklearn\\feature_extraction\\text.py:525: UserWarning: The parameter 'token_pattern' will not be used since 'tokenizer' is not None'\n",
      "  warnings.warn(\n"
     ]
    }
   ],
   "source": [
    "# Computing the TF-IDF matrix for entity matching\n",
    "tfidf_mtx = tfidf_vectorizer.fit_transform(retA_data_tokens['title'].tolist() + retB_data_tokens['title'].tolist())"
   ]
  },
  {
   "cell_type": "code",
   "execution_count": 6,
   "metadata": {},
   "outputs": [
    {
     "data": {
      "text/plain": [
       "<2173x3546 sparse matrix of type '<class 'numpy.float64'>'\n",
       "\twith 17737 stored elements in Compressed Sparse Row format>"
      ]
     },
     "execution_count": 6,
     "metadata": {},
     "output_type": "execute_result"
    }
   ],
   "source": [
    "# Exploring matrix\n",
    "tfidf_mtx"
   ]
  },
  {
   "cell_type": "markdown",
   "metadata": {},
   "source": [
    "### Splitting the TF-IDF Matrix into `retA` and `retB`"
   ]
  },
  {
   "cell_type": "code",
   "execution_count": 7,
   "metadata": {},
   "outputs": [],
   "source": [
    "# Split the TF-IDF representation back into retA and retB\n",
    "split_index = retA_data_tokens.shape[0]\n",
    "tfidf_matrix_ret_a = tfidf_mtx[:split_index]\n",
    "tfidf_matrix_ret_b = tfidf_mtx[split_index:]"
   ]
  },
  {
   "cell_type": "markdown",
   "metadata": {},
   "source": [
    "## Calculating Cosine Similarities\n",
    "\n",
    "In this phase, we will calculate cosine similarities using the vectorizer and the `textTokenization` function. The goal is to identify similarities among the titles of products from RetailerA and RetailerB, ultimately yielding a valuable `Similarity` metric for entity matching."
   ]
  },
  {
   "cell_type": "code",
   "execution_count": 8,
   "metadata": {},
   "outputs": [
    {
     "data": {
      "text/plain": [
       "array([[0.68573, 0.43722, 0.11023, ..., 0.     , 0.     , 0.     ],\n",
       "       [0.14555, 0.41767, 0.09378, ..., 0.     , 0.     , 0.     ],\n",
       "       [0.08776, 0.12116, 0.56652, ..., 0.     , 0.     , 0.     ],\n",
       "       ...,\n",
       "       [0.     , 0.     , 0.     , ..., 0.30625, 0.37233, 0.     ],\n",
       "       [0.     , 0.     , 0.     , ..., 0.3089 , 0.54388, 0.     ],\n",
       "       [0.     , 0.     , 0.     , ..., 0.     , 0.     , 0.73392]])"
      ]
     },
     "execution_count": 8,
     "metadata": {},
     "output_type": "execute_result"
    }
   ],
   "source": [
    "# Compute cosine similarity\n",
    "cosine_similarities_ab = cosine_similarity(tfidf_matrix_ret_a, tfidf_matrix_ret_b).round(5)\n",
    "cosine_similarities_ab"
   ]
  },
  {
   "cell_type": "markdown",
   "metadata": {},
   "source": [
    "### Analyzing Cosine Similarities"
   ]
  },
  {
   "cell_type": "code",
   "execution_count": 9,
   "metadata": {},
   "outputs": [
    {
     "name": "stdout",
     "output_type": "stream",
     "text": [
      "(1081, 1092)\n"
     ]
    }
   ],
   "source": [
    "# Exploring cosine similarities matrix\n",
    "print(cosine_similarities_ab.shape)"
   ]
  },
  {
   "cell_type": "code",
   "execution_count": 10,
   "metadata": {},
   "outputs": [],
   "source": [
    "# Building a dataframe with cosine similarities in records from RetA and RetB based on a threshold\n",
    "similarities = []\n",
    "thr = 0.6\n",
    "\n",
    "for idx, row in enumerate(cosine_similarities_ab):\n",
    "    # Loop through each row of the cosine similarities matrix\n",
    "    for col_idx, similarity in enumerate(row):\n",
    "        # Loop through each element in the row\n",
    "        if similarity > thr:  # Threshold adjusted for a 60% of similarity\n",
    "            similarities.append((retA_data_tokens.iloc[idx]['title'], retB_data_tokens.iloc[col_idx]['title'], similarity))\n",
    "\n",
    "sim_ab_df = pd.DataFrame(similarities, columns=['Title_retA', 'Title_retB', 'Similarity'])\n",
    "\n",
    "sim_ab_df['Similarity'] = sim_ab_df['Similarity'].round(5) # Create `similarity` column\n",
    "sim_ab_df.to_csv('../data/entity-matching/RetA_RetB_similarities.csv') # Save the dataframe for later usage"
   ]
  },
  {
   "cell_type": "code",
   "execution_count": 11,
   "metadata": {},
   "outputs": [
    {
     "data": {
      "text/html": [
       "<div>\n",
       "<style scoped>\n",
       "    .dataframe tbody tr th:only-of-type {\n",
       "        vertical-align: middle;\n",
       "    }\n",
       "\n",
       "    .dataframe tbody tr th {\n",
       "        vertical-align: top;\n",
       "    }\n",
       "\n",
       "    .dataframe thead th {\n",
       "        text-align: right;\n",
       "    }\n",
       "</style>\n",
       "<table border=\"1\" class=\"dataframe\">\n",
       "  <thead>\n",
       "    <tr style=\"text-align: right;\">\n",
       "      <th></th>\n",
       "      <th>Title_retA</th>\n",
       "      <th>Title_retB</th>\n",
       "      <th>Similarity</th>\n",
       "    </tr>\n",
       "  </thead>\n",
       "  <tbody>\n",
       "    <tr>\n",
       "      <th>0</th>\n",
       "      <td>Linksys EtherFast 8-Port 10/100 Switch - EZXS88W</td>\n",
       "      <td>Linksys EtherFast EZXS88W Ethernet Switch - EZ...</td>\n",
       "      <td>0.68573</td>\n",
       "    </tr>\n",
       "    <tr>\n",
       "      <th>1</th>\n",
       "      <td>Belkin F3H982-10 Pro Series High Integrity 10 ...</td>\n",
       "      <td>Belkin Pro Series High Integrity VGA/SVGA Moni...</td>\n",
       "      <td>0.67453</td>\n",
       "    </tr>\n",
       "    <tr>\n",
       "      <th>2</th>\n",
       "      <td>LaCie USB 2.0 Floppy Disk Drive - 706018</td>\n",
       "      <td>LaCie Pocket Floppy Disk Drive - 706018</td>\n",
       "      <td>0.77309</td>\n",
       "    </tr>\n",
       "    <tr>\n",
       "      <th>3</th>\n",
       "      <td>Canon KP-36IP Color Ink &amp; Paper Set - 7737A001</td>\n",
       "      <td>Canon KP 36IP Print Cartridge / Paper Kit - 77...</td>\n",
       "      <td>0.68089</td>\n",
       "    </tr>\n",
       "    <tr>\n",
       "      <th>4</th>\n",
       "      <td>Kensington Orbit Optical Trackball Mouse - 64327</td>\n",
       "      <td>Kensington Orbit Optical Trackball - USB w/PS2...</td>\n",
       "      <td>0.76323</td>\n",
       "    </tr>\n",
       "  </tbody>\n",
       "</table>\n",
       "</div>"
      ],
      "text/plain": [
       "                                          Title_retA  \\\n",
       "0   Linksys EtherFast 8-Port 10/100 Switch - EZXS88W   \n",
       "1  Belkin F3H982-10 Pro Series High Integrity 10 ...   \n",
       "2           LaCie USB 2.0 Floppy Disk Drive - 706018   \n",
       "3     Canon KP-36IP Color Ink & Paper Set - 7737A001   \n",
       "4   Kensington Orbit Optical Trackball Mouse - 64327   \n",
       "\n",
       "                                          Title_retB  Similarity  \n",
       "0  Linksys EtherFast EZXS88W Ethernet Switch - EZ...     0.68573  \n",
       "1  Belkin Pro Series High Integrity VGA/SVGA Moni...     0.67453  \n",
       "2            LaCie Pocket Floppy Disk Drive - 706018     0.77309  \n",
       "3  Canon KP 36IP Print Cartridge / Paper Kit - 77...     0.68089  \n",
       "4  Kensington Orbit Optical Trackball - USB w/PS2...     0.76323  "
      ]
     },
     "execution_count": 11,
     "metadata": {},
     "output_type": "execute_result"
    }
   ],
   "source": [
    "# Exploring the dataframe\n",
    "sim_ab_df.head()"
   ]
  },
  {
   "cell_type": "code",
   "execution_count": 12,
   "metadata": {},
   "outputs": [
    {
     "data": {
      "image/png": "[encoded data removed]",
      "text/plain": [
       "<Figure size 640x480 with 1 Axes>"
      ]
     },
     "metadata": {},
     "output_type": "display_data"
    }
   ],
   "source": [
    "# Plotting the distribution of similarity scores\n",
    "sim_ab_df['Similarity'].hist(bins=50)\n",
    "plt.title('Distribution of Similarity Scores (RetA vs RetB Titles)')\n",
    "plt.xlabel('Similarity Score')\n",
    "plt.ylabel('Frequency')\n",
    "plt.show()"
   ]
  },
  {
   "cell_type": "code",
   "execution_count": 13,
   "metadata": {},
   "outputs": [
    {
     "data": {
      "text/html": [
       "<div>\n",
       "<style scoped>\n",
       "    .dataframe tbody tr th:only-of-type {\n",
       "        vertical-align: middle;\n",
       "    }\n",
       "\n",
       "    .dataframe tbody tr th {\n",
       "        vertical-align: top;\n",
       "    }\n",
       "\n",
       "    .dataframe thead th {\n",
       "        text-align: right;\n",
       "    }\n",
       "</style>\n",
       "<table border=\"1\" class=\"dataframe\">\n",
       "  <thead>\n",
       "    <tr style=\"text-align: right;\">\n",
       "      <th></th>\n",
       "      <th>Title_retA</th>\n",
       "      <th>Title_retB</th>\n",
       "    </tr>\n",
       "  </thead>\n",
       "  <tbody>\n",
       "    <tr>\n",
       "      <th>6</th>\n",
       "      <td>Linksys Wireless-G Ethernet Bridge - WET54G</td>\n",
       "      <td>Linksys G Wireless-G WET54G Wireless Bridge</td>\n",
       "    </tr>\n",
       "    <tr>\n",
       "      <th>8</th>\n",
       "      <td>Tripp-Lite PV375 PowerVerter 375-Watt Ultra-Co...</td>\n",
       "      <td>Tripp Lite PowerVerter 375-Watt Ultra-Compact ...</td>\n",
       "    </tr>\n",
       "    <tr>\n",
       "      <th>13</th>\n",
       "      <td>Linksys Wireless-G Range Expander - WRE54G</td>\n",
       "      <td>Linksys Wireless-G Range Expander Wireless Bri...</td>\n",
       "    </tr>\n",
       "    <tr>\n",
       "      <th>14</th>\n",
       "      <td>Sony VAIO Neoprene Notebook With AC Adapter Ca...</td>\n",
       "      <td>Sony VAIO Notebook and AC Adapter Case - VGPAMC2</td>\n",
       "    </tr>\n",
       "    <tr>\n",
       "      <th>16</th>\n",
       "      <td>Netgear RangeMax Wireless Access Point - White...</td>\n",
       "      <td>Netgear RangeMax WPN802 Wireless Access Point ...</td>\n",
       "    </tr>\n",
       "    <tr>\n",
       "      <th>17</th>\n",
       "      <td>NetGear ProSafe 24 Port Smart Switch - FS726TP</td>\n",
       "      <td>Netgear ProSafe FS726TP 24 Port 10/100 Smart S...</td>\n",
       "    </tr>\n",
       "    <tr>\n",
       "      <th>26</th>\n",
       "      <td>Sanus 13' - 30' Flat Panel TV Black Wall Mount...</td>\n",
       "      <td>Sanus Flat Panel TV Wall Mount - VM1B</td>\n",
       "    </tr>\n",
       "    <tr>\n",
       "      <th>30</th>\n",
       "      <td>Canon CB-2LV Battery Charger - 9764A001</td>\n",
       "      <td>Canon CB-2LV Battery Charger - 9764A001</td>\n",
       "    </tr>\n",
       "    <tr>\n",
       "      <th>33</th>\n",
       "      <td>Sanus 15' - 40' Flat Panel TV Silver Wall Moun...</td>\n",
       "      <td>Sanus Flat Panel TV Wall Mount - VM400S</td>\n",
       "    </tr>\n",
       "    <tr>\n",
       "      <th>35</th>\n",
       "      <td>Sanus 15' - 40' Flat Panel TV Black Wall Mount...</td>\n",
       "      <td>Sanus Flat Panel TV Wall Mount - VM400B</td>\n",
       "    </tr>\n",
       "    <tr>\n",
       "      <th>36</th>\n",
       "      <td>Sanus Universal Projector Ceiling Mount -  Bla...</td>\n",
       "      <td>Sanus Universal Projector Ceiling Mount - VMPR1B</td>\n",
       "    </tr>\n",
       "    <tr>\n",
       "      <th>40</th>\n",
       "      <td>Weber Performer 22-1/2' Charcoal Grill - 841001</td>\n",
       "      <td>Weber 841001 Performer 22.5' Charcoal Grill in...</td>\n",
       "    </tr>\n",
       "    <tr>\n",
       "      <th>41</th>\n",
       "      <td>Omnimount TV Top Shelf Mount - CCH1P</td>\n",
       "      <td>OmniMount TV Top Shelf Mount</td>\n",
       "    </tr>\n",
       "    <tr>\n",
       "      <th>42</th>\n",
       "      <td>Omnimount TV Top Shelf Mount - CCH1P</td>\n",
       "      <td>OmniMount TV Top Shelf Mount - CCH1P</td>\n",
       "    </tr>\n",
       "    <tr>\n",
       "      <th>44</th>\n",
       "      <td>Linksys Wireless-G VPN Broadband Silver Router...</td>\n",
       "      <td>Linksys WRV54G Wireless-G VPN Broadband Router</td>\n",
       "    </tr>\n",
       "    <tr>\n",
       "      <th>51</th>\n",
       "      <td>Delonghi Twenty Four Seven Coffee Maker In Bla...</td>\n",
       "      <td>DeLonghi DC50B Twenty Four Seven Drip Coffee M...</td>\n",
       "    </tr>\n",
       "    <tr>\n",
       "      <th>53</th>\n",
       "      <td>Canon Black EF 70-300mm F/4-5.6 IS USM Telepho...</td>\n",
       "      <td>Canon EF 70-300mm f/4-5.6 IS USM Telephoto Zoo...</td>\n",
       "    </tr>\n",
       "    <tr>\n",
       "      <th>55</th>\n",
       "      <td>Universal IR/RF Aeros Remote Control- MX850 - ...</td>\n",
       "      <td>Universal Aeros IR/RF Remote Control - MX850</td>\n",
       "    </tr>\n",
       "    <tr>\n",
       "      <th>58</th>\n",
       "      <td>Linksys Wireless-G Broadband Router - WRT54GL</td>\n",
       "      <td>Linksys Wireless-G WRT54GL Broadband Router</td>\n",
       "    </tr>\n",
       "    <tr>\n",
       "      <th>61</th>\n",
       "      <td>Kensington MicroSaver Keyed Notebook Lock - 64...</td>\n",
       "      <td>Kensington MicroSaver Notebook Lock - 64068F</td>\n",
       "    </tr>\n",
       "  </tbody>\n",
       "</table>\n",
       "</div>"
      ],
      "text/plain": [
       "                                           Title_retA  \\\n",
       "6         Linksys Wireless-G Ethernet Bridge - WET54G   \n",
       "8   Tripp-Lite PV375 PowerVerter 375-Watt Ultra-Co...   \n",
       "13         Linksys Wireless-G Range Expander - WRE54G   \n",
       "14  Sony VAIO Neoprene Notebook With AC Adapter Ca...   \n",
       "16  Netgear RangeMax Wireless Access Point - White...   \n",
       "17     NetGear ProSafe 24 Port Smart Switch - FS726TP   \n",
       "26  Sanus 13' - 30' Flat Panel TV Black Wall Mount...   \n",
       "30            Canon CB-2LV Battery Charger - 9764A001   \n",
       "33  Sanus 15' - 40' Flat Panel TV Silver Wall Moun...   \n",
       "35  Sanus 15' - 40' Flat Panel TV Black Wall Mount...   \n",
       "36  Sanus Universal Projector Ceiling Mount -  Bla...   \n",
       "40    Weber Performer 22-1/2' Charcoal Grill - 841001   \n",
       "41               Omnimount TV Top Shelf Mount - CCH1P   \n",
       "42               Omnimount TV Top Shelf Mount - CCH1P   \n",
       "44  Linksys Wireless-G VPN Broadband Silver Router...   \n",
       "51  Delonghi Twenty Four Seven Coffee Maker In Bla...   \n",
       "53  Canon Black EF 70-300mm F/4-5.6 IS USM Telepho...   \n",
       "55  Universal IR/RF Aeros Remote Control- MX850 - ...   \n",
       "58      Linksys Wireless-G Broadband Router - WRT54GL   \n",
       "61  Kensington MicroSaver Keyed Notebook Lock - 64...   \n",
       "\n",
       "                                           Title_retB  \n",
       "6         Linksys G Wireless-G WET54G Wireless Bridge  \n",
       "8   Tripp Lite PowerVerter 375-Watt Ultra-Compact ...  \n",
       "13  Linksys Wireless-G Range Expander Wireless Bri...  \n",
       "14   Sony VAIO Notebook and AC Adapter Case - VGPAMC2  \n",
       "16  Netgear RangeMax WPN802 Wireless Access Point ...  \n",
       "17  Netgear ProSafe FS726TP 24 Port 10/100 Smart S...  \n",
       "26              Sanus Flat Panel TV Wall Mount - VM1B  \n",
       "30            Canon CB-2LV Battery Charger - 9764A001  \n",
       "33            Sanus Flat Panel TV Wall Mount - VM400S  \n",
       "35            Sanus Flat Panel TV Wall Mount - VM400B  \n",
       "36   Sanus Universal Projector Ceiling Mount - VMPR1B  \n",
       "40  Weber 841001 Performer 22.5' Charcoal Grill in...  \n",
       "41                       OmniMount TV Top Shelf Mount  \n",
       "42               OmniMount TV Top Shelf Mount - CCH1P  \n",
       "44     Linksys WRV54G Wireless-G VPN Broadband Router  \n",
       "51  DeLonghi DC50B Twenty Four Seven Drip Coffee M...  \n",
       "53  Canon EF 70-300mm f/4-5.6 IS USM Telephoto Zoo...  \n",
       "55       Universal Aeros IR/RF Remote Control - MX850  \n",
       "58        Linksys Wireless-G WRT54GL Broadband Router  \n",
       "61       Kensington MicroSaver Notebook Lock - 64068F  "
      ]
     },
     "execution_count": 13,
     "metadata": {},
     "output_type": "execute_result"
    }
   ],
   "source": [
    "# Displaying some high similarity pairs (greter than 80%)\n",
    "high_similarity_pairs = sim_ab_df[sim_ab_df['Similarity'] > 0.8]\n",
    "high_similarity_pairs[['Title_retA', 'Title_retB']].head(20)"
   ]
  },
  {
   "cell_type": "markdown",
   "metadata": {},
   "source": [
    "----"
   ]
  },
  {
   "cell_type": "markdown",
   "metadata": {},
   "source": [
    "### **AI tool usage for this notebook**\n",
    "\n",
    "#### ChatGPT 3.5\n",
    "* Improving markdown annotations and function doctrings\n",
    "\n",
    "#### ChatGPT 4\n",
    "* Variable naming\n",
    "* Setting up the path for package calling\n",
    "* Help with sklearn.feature_extraction.text.TfidfVectorize documentation"
   ]
  },
  {
   "cell_type": "markdown",
   "metadata": {},
   "source": []
  }
 ],
 "metadata": {
  "kernelspec": {
   "display_name": "python311",
   "language": "python",
   "name": "python3"
  },
  "language_info": {
   "codemirror_mode": {
    "name": "ipython",
    "version": 3
   },
   "file_extension": ".py",
   "mimetype": "text/x-python",
   "name": "python",
   "nbconvert_exporter": "python",
   "pygments_lexer": "ipython3",
   "version": "3.11.4"
  }
 },
 "nbformat": 4,
 "nbformat_minor": 2
}
