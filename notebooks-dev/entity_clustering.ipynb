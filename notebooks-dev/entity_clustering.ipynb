{
 "cells": [
  {
   "cell_type": "markdown",
   "metadata": {},
   "source": [
    "# Entity Clustering\n",
    "\n",
    "In this development notebook, our goal is to cluster entities based on the following steps: first, we will compute the TF-IDF matrix from the combined data; next, we will calculate cosine similarity, followed by dimensionality reduction. Subsequently, we will apply HDBSCAN as our chosen clustering algorithm on the distance matrix. Ultimately, create graphics and value count techniques to evaluate the clustering performance and we will create a dataframe that includes the titles and the clusters to which they belong."
   ]
  },
  {
   "cell_type": "code",
   "execution_count": 1,
   "metadata": {},
   "outputs": [],
   "source": [
    "import sys\n",
    "sys.path.insert(0, '../scripts/')"
   ]
  },
  {
   "cell_type": "code",
   "execution_count": 2,
   "metadata": {},
   "outputs": [],
   "source": [
    "# Imports\n",
    "import pandas as pd\n",
    "import numpy as np\n",
    "import tfidf_generation\n",
    "import hdbscan\n",
    "import matplotlib.pyplot as plt\n",
    "from sklearn.decomposition import PCA\n",
    "from text_tokenization import tokenizeText\n",
    "from cosine_similarity import compute_cosine_similarities\n",
    "\n",
    "np.random.seed(42) # Reproducible results"
   ]
  },
  {
   "cell_type": "markdown",
   "metadata": {},
   "source": [
    "### Extracting Data"
   ]
  },
  {
   "cell_type": "code",
   "execution_count": 3,
   "metadata": {},
   "outputs": [],
   "source": [
    "# Getting RetA, RetB combined dataframe\n",
    "combined_data_clusters = pd.read_csv('../data/processed/combined_data_tokens.csv') # Combined data with titles and tokens"
   ]
  },
  {
   "cell_type": "markdown",
   "metadata": {},
   "source": [
    "### Creating the TF-IDF Matrix"
   ]
  },
  {
   "cell_type": "code",
   "execution_count": 4,
   "metadata": {},
   "outputs": [
    {
     "name": "stderr",
     "output_type": "stream",
     "text": [
      "c:\\Users\\pablo\\.conda\\envs\\python311\\Lib\\site-packages\\sklearn\\feature_extraction\\text.py:525: UserWarning: The parameter 'token_pattern' will not be used since 'tokenizer' is not None'\n",
      "  warnings.warn(\n"
     ]
    }
   ],
   "source": [
    "# Generating TF-IDF matrices\n",
    "combined_tfidf_mtx = tfidf_generation.generate_tfidf_matrix(combined_data_clusters, combined_data_clusters, tokenizeText, lemmas=False)"
   ]
  },
  {
   "cell_type": "code",
   "execution_count": 5,
   "metadata": {},
   "outputs": [],
   "source": [
    "# Split the TF-IDF representation back into retA and retB\n",
    "split_index = combined_data_clusters.shape[0]\n",
    "tfidf_mtx_retA = combined_tfidf_mtx[:split_index]\n",
    "tfidf_mtx_retB = combined_tfidf_mtx[split_index:]"
   ]
  },
  {
   "cell_type": "markdown",
   "metadata": {},
   "source": [
    "### Computing Similarity Matrix"
   ]
  },
  {
   "cell_type": "code",
   "execution_count": 6,
   "metadata": {},
   "outputs": [],
   "source": [
    "# Compute cosine similarity matrix\n",
    "cosine_sim_mtx = compute_cosine_similarities(tfidf_mtx_retA, tfidf_mtx_retB)\n",
    "# Compute distance matrix\n",
    "distance_mtx = 1 - cosine_sim_mtx"
   ]
  },
  {
   "cell_type": "markdown",
   "metadata": {},
   "source": [
    "### Dimentionality Analysis"
   ]
  },
  {
   "cell_type": "code",
   "execution_count": 7,
   "metadata": {},
   "outputs": [],
   "source": [
    "# Dimentionality reduction\n",
    "pca_reducer = PCA(n_components=2)\n",
    "reduced_feat = pca_reducer.fit_transform(distance_mtx)"
   ]
  },
  {
   "cell_type": "markdown",
   "metadata": {},
   "source": [
    "### Dimensionality Reduction and Clustering Analysis\n",
    "\n",
    "This section of the code performs a comprehensive analysis combining Principal Component Analysis (PCA) and HDBSCAN clustering. The process involves the following steps:\n",
    "\n",
    "1. **HDBSCAN Initialization:** An HDBSCAN clusterer is initialized with a minimum cluster size of 2 and the generation of a minimum spanning tree. This clusterer will be used to identify clusters in the data after dimensionality reduction.\n",
    "\n",
    "2. **Preparation for Dimensionality Reduction and Clustering:** Two dictionaries, `reduced_features` and `clust_assignments` will store the features reduced by PCA, and `clust_assignments` will store the cluster assignments from HDBSCAN for each number of PCA components.\n",
    "\n",
    "3. **Iterative PCA and Clustering:** \n",
    "   - For each number of components ranging from 2 to 40, PCA is applied to the dataset `distance_mtx` to reduce its dimensionality.\n",
    "   - The reduced dataset is then clustered using HDBSCAN.\n",
    "   - The number of unique clusters (including unrecognized clusters marked as -1) is determined for each number of components.\n",
    "\n",
    "4. **Output Analysis:**\n",
    "   - For each iteration, the number of PCA components used, the number of identified clusters, and the count of unrecognized clusters (labelled as -1) are printed. This output helps in understanding how the number of PCA components affects cluster formation and identification."
   ]
  },
  {
   "cell_type": "code",
   "execution_count": 8,
   "metadata": {},
   "outputs": [],
   "source": [
    "# Evaluating best performers\n",
    "num_best_params = len(distance_mtx)\n",
    "reduced_features = {} # Storing reduced features\n",
    "clust_assignments = {} # Storing cosine assignment\n",
    "\n",
    "\n",
    "for n_comp in range(2,11): # PCA components\n",
    "    for clust_size in range(2, 51, 5): # min_cluster_size parameter in HDBSCAN\n",
    "        for min_samples in range(2, 51, 5):\n",
    "\n",
    "            # Clusterer\n",
    "            hdbscan_clusterer = hdbscan.HDBSCAN(min_cluster_size=clust_size, min_samples=min_samples, gen_min_span_tree=True)\n",
    "\n",
    "            # Dimentionality reduction\n",
    "            pca_reducer = PCA(n_components=n_comp)\n",
    "            reduced_features[n_comp] = pca_reducer.fit_transform(distance_mtx)\n",
    "\n",
    "            # Cosine similarities\n",
    "            clust_assignments[n_comp] = hdbscan_clusterer.fit_predict(reduced_features[n_comp])\n",
    "\n",
    "            num_clusters = len(np.unique(clust_assignments[n_comp]))\n",
    "            unrecognized_clust = np.sum(clust_assignments[n_comp] == -1)\n",
    "\n",
    "            # Saving best performers in a dictionary\n",
    "            if unrecognized_clust < num_best_params:\n",
    "                num_best_params = unrecognized_clust\n",
    "                best_params = {\n",
    "                                'n_comp': n_comp,\n",
    "                                'min_cluster_size': clust_size,\n",
    "                                'min_samples': min_samples\n",
    "                            }\n",
    "            \n",
    "            # Clustering analysis\n",
    "            #print(F\"Number of PCA Components: {n_comp}\")\n",
    "            #print(F\"min_cluster_size in HDBSCAN: {clust_size}\")\n",
    "            #print(F\"min_samples in HDBSCAN: {min_samples}\")\n",
    "            #print(f\"Number of Clusters found: {num_clusters}\")\n",
    "            #print(f\"Number of Unrecognized Clusters (-1): {unrecognized_clust}\\n\")"
   ]
  },
  {
   "cell_type": "code",
   "execution_count": 9,
   "metadata": {},
   "outputs": [
    {
     "data": {
      "text/plain": [
       "{'n_comp': 5, 'min_cluster_size': 47, 'min_samples': 7}"
      ]
     },
     "execution_count": 9,
     "metadata": {},
     "output_type": "execute_result"
    }
   ],
   "source": [
    "# Best parameters accordind to the number of unrecognized clusters\n",
    "best_params"
   ]
  },
  {
   "cell_type": "markdown",
   "metadata": {},
   "source": [
    "### HDBSCAN Clustering"
   ]
  },
  {
   "cell_type": "code",
   "execution_count": 10,
   "metadata": {},
   "outputs": [],
   "source": [
    "# Clustering using HDBSCAN\n",
    "hdbscan_clusterer = hdbscan.HDBSCAN(min_cluster_size=7, min_samples=2, gen_min_span_tree=True)"
   ]
  },
  {
   "cell_type": "code",
   "execution_count": 11,
   "metadata": {},
   "outputs": [],
   "source": [
    "# Intermediate dataframe\n",
    "cosine_sim_df = pd.DataFrame(cosine_sim_mtx, index=combined_data_clusters['title'], columns=combined_data_clusters['title'])"
   ]
  },
  {
   "cell_type": "code",
   "execution_count": 12,
   "metadata": {},
   "outputs": [],
   "source": [
    "cosine_sim_df['cluster'] = hdbscan_clusterer.fit_predict(reduced_feat)"
   ]
  },
  {
   "cell_type": "markdown",
   "metadata": {},
   "source": [
    "### Clustering Analysis"
   ]
  },
  {
   "cell_type": "code",
   "execution_count": 13,
   "metadata": {},
   "outputs": [
    {
     "name": "stdout",
     "output_type": "stream",
     "text": [
      "Number of Clusters found: 120\n",
      "\n"
     ]
    }
   ],
   "source": [
    "# Clustering analysis\n",
    "print(f\"Number of Clusters found: {len(cosine_sim_df['cluster'].unique())}\\n\")"
   ]
  },
  {
   "cell_type": "code",
   "execution_count": 14,
   "metadata": {},
   "outputs": [
    {
     "data": {
      "image/png": "[encoded data removed]",
      "text/plain": [
       "<Figure size 640x480 with 1 Axes>"
      ]
     },
     "metadata": {},
     "output_type": "display_data"
    }
   ],
   "source": [
    "# Clustering distribution\n",
    "cosine_sim_df.reset_index()['cluster'].hist(bins=50)\n",
    "plt.title('Distribution of Clusters Found')\n",
    "plt.xlabel('Cluster #')\n",
    "plt.ylabel('Frequency')\n",
    "plt.show()"
   ]
  },
  {
   "cell_type": "code",
   "execution_count": 15,
   "metadata": {},
   "outputs": [
    {
     "data": {
      "text/plain": [
       "610"
      ]
     },
     "execution_count": 15,
     "metadata": {},
     "output_type": "execute_result"
    }
   ],
   "source": [
    "# Getting number of unrecognised clusters\n",
    "unrecognized_clust = cosine_sim_df.query('cluster == -1')[['cluster']]\\\n",
    "                            .sort_values('cluster')\\\n",
    "                            .reset_index()\n",
    "\n",
    "len(unrecognized_clust)"
   ]
  },
  {
   "cell_type": "code",
   "execution_count": 16,
   "metadata": {},
   "outputs": [],
   "source": [
    "# Saving for analysis\n",
    "cosine_sim_df.reset_index()[['title', 'cluster']].to_csv('../data/entity-clustering/RetA_RetB_clusters.csv')"
   ]
  },
  {
   "cell_type": "code",
   "execution_count": 17,
   "metadata": {},
   "outputs": [],
   "source": [
    "# Example of the first 20 clusters\n",
    "query = '0 < cluster < 9' # Clusters from 0 to 9\n",
    "\n",
    "clusters_df = cosine_sim_df.query(query)[['cluster']]\\\n",
    "                                .sort_values('cluster')\\\n",
    "                                .reset_index()\n",
    "\n",
    "clusters_0_21 = pd.DataFrame(columns=['title', 'cluster'])\n",
    "clusters_0_21['title'] = clusters_df['title']\n",
    "clusters_0_21['cluster'] = clusters_df['cluster']"
   ]
  },
  {
   "cell_type": "code",
   "execution_count": 18,
   "metadata": {},
   "outputs": [
    {
     "data": {
      "text/html": [
       "<div>\n",
       "<style scoped>\n",
       "    .dataframe tbody tr th:only-of-type {\n",
       "        vertical-align: middle;\n",
       "    }\n",
       "\n",
       "    .dataframe tbody tr th {\n",
       "        vertical-align: top;\n",
       "    }\n",
       "\n",
       "    .dataframe thead th {\n",
       "        text-align: right;\n",
       "    }\n",
       "</style>\n",
       "<table border=\"1\" class=\"dataframe\">\n",
       "  <thead>\n",
       "    <tr style=\"text-align: right;\">\n",
       "      <th></th>\n",
       "      <th>title</th>\n",
       "      <th>cluster</th>\n",
       "    </tr>\n",
       "  </thead>\n",
       "  <tbody>\n",
       "    <tr>\n",
       "      <th>0</th>\n",
       "      <td>Samsung 22' Black Flat Panel LCD HDTV - LN22A450</td>\n",
       "      <td>1</td>\n",
       "    </tr>\n",
       "    <tr>\n",
       "      <th>1</th>\n",
       "      <td>Samsung 46' Series 8 LCD Black Flat Panel HDTV...</td>\n",
       "      <td>1</td>\n",
       "    </tr>\n",
       "    <tr>\n",
       "      <th>2</th>\n",
       "      <td>Samsung 52' Series 5 LCD Black Flat Panel HDTV...</td>\n",
       "      <td>1</td>\n",
       "    </tr>\n",
       "    <tr>\n",
       "      <th>3</th>\n",
       "      <td>Samsung 46' Series 5 LCD Black Flat Panel HDTV...</td>\n",
       "      <td>1</td>\n",
       "    </tr>\n",
       "    <tr>\n",
       "      <th>4</th>\n",
       "      <td>Samsung 58' Black Flat Panel Series 5 Plasma H...</td>\n",
       "      <td>1</td>\n",
       "    </tr>\n",
       "    <tr>\n",
       "      <th>...</th>\n",
       "      <td>...</td>\n",
       "      <td>...</td>\n",
       "    </tr>\n",
       "    <tr>\n",
       "      <th>125</th>\n",
       "      <td>Samsung PN50A450 50' Plasma TV</td>\n",
       "      <td>8</td>\n",
       "    </tr>\n",
       "    <tr>\n",
       "      <th>126</th>\n",
       "      <td>Omnimount 42' - 63' Wishbone Cantilever Extra ...</td>\n",
       "      <td>8</td>\n",
       "    </tr>\n",
       "    <tr>\n",
       "      <th>127</th>\n",
       "      <td>15in Lcd/dvd Tv Combo - HLC15R</td>\n",
       "      <td>8</td>\n",
       "    </tr>\n",
       "    <tr>\n",
       "      <th>128</th>\n",
       "      <td>Samsung LN46A850 - 46' 1080P LCD HDTV - 50,000...</td>\n",
       "      <td>8</td>\n",
       "    </tr>\n",
       "    <tr>\n",
       "      <th>129</th>\n",
       "      <td>Toshiba 19AV500U 19' LCD TV</td>\n",
       "      <td>8</td>\n",
       "    </tr>\n",
       "  </tbody>\n",
       "</table>\n",
       "<p>130 rows × 2 columns</p>\n",
       "</div>"
      ],
      "text/plain": [
       "                                                 title  cluster\n",
       "0     Samsung 22' Black Flat Panel LCD HDTV - LN22A450        1\n",
       "1    Samsung 46' Series 8 LCD Black Flat Panel HDTV...        1\n",
       "2    Samsung 52' Series 5 LCD Black Flat Panel HDTV...        1\n",
       "3    Samsung 46' Series 5 LCD Black Flat Panel HDTV...        1\n",
       "4    Samsung 58' Black Flat Panel Series 5 Plasma H...        1\n",
       "..                                                 ...      ...\n",
       "125                     Samsung PN50A450 50' Plasma TV        8\n",
       "126  Omnimount 42' - 63' Wishbone Cantilever Extra ...        8\n",
       "127                     15in Lcd/dvd Tv Combo - HLC15R        8\n",
       "128  Samsung LN46A850 - 46' 1080P LCD HDTV - 50,000...        8\n",
       "129                        Toshiba 19AV500U 19' LCD TV        8\n",
       "\n",
       "[130 rows x 2 columns]"
      ]
     },
     "execution_count": 18,
     "metadata": {},
     "output_type": "execute_result"
    }
   ],
   "source": [
    "clusters_0_21"
   ]
  },
  {
   "cell_type": "code",
   "execution_count": 19,
   "metadata": {},
   "outputs": [],
   "source": [
    "# Exploring cluster -1\n",
    "query = 'cluster == -1' # Unrecognized products\n",
    "\n",
    "clusters_df = cosine_sim_df.query(query)[['cluster']]\\\n",
    "                            .sort_values('cluster')\\\n",
    "                            .reset_index()\n",
    "\n",
    "clusters_neg_1 = pd.DataFrame(columns=['title', 'cluster'])\n",
    "clusters_neg_1['title'] = clusters_df['title']\n",
    "clusters_neg_1['cluster'] = clusters_df['cluster']"
   ]
  },
  {
   "cell_type": "code",
   "execution_count": 20,
   "metadata": {},
   "outputs": [
    {
     "data": {
      "text/plain": [
       "610"
      ]
     },
     "execution_count": 20,
     "metadata": {},
     "output_type": "execute_result"
    }
   ],
   "source": [
    "len(clusters_neg_1)"
   ]
  },
  {
   "cell_type": "code",
   "execution_count": 21,
   "metadata": {},
   "outputs": [
    {
     "name": "stdout",
     "output_type": "stream",
     "text": [
      "<class 'pandas.core.frame.DataFrame'>\n",
      "RangeIndex: 610 entries, 0 to 609\n",
      "Data columns (total 2 columns):\n",
      " #   Column   Non-Null Count  Dtype \n",
      "---  ------   --------------  ----- \n",
      " 0   title    610 non-null    object\n",
      " 1   cluster  610 non-null    int64 \n",
      "dtypes: int64(1), object(1)\n",
      "memory usage: 9.7+ KB\n"
     ]
    }
   ],
   "source": [
    "clusters_neg_1.info()"
   ]
  },
  {
   "cell_type": "markdown",
   "metadata": {},
   "source": [
    "---"
   ]
  },
  {
   "cell_type": "markdown",
   "metadata": {},
   "source": [
    "### **AI tool usage for this notebook**\n",
    "\n",
    "#### ChatGPT 3.5\n",
    "* Improving markdown annotations and function doctrings\n",
    "\n",
    "#### ChatGPT 4\n",
    "* Cluster exploration\n",
    "\n",
    "```python\n",
    "query = 'cluster == -1' # Unrecognized products\n",
    "clusters_df = cosine_sim_df.query(query)[['cluster']]\\\n",
    "                            .sort_values('cluster')\\\n",
    "                            .reset_index()\n",
    "```\n",
    "\n",
    "* Help in defining hyperparameter space for the tfidf vectorizer\n",
    "* Help in repository structure"
   ]
  }
 ],
 "metadata": {
  "kernelspec": {
   "display_name": "python311",
   "language": "python",
   "name": "python3"
  },
  "language_info": {
   "codemirror_mode": {
    "name": "ipython",
    "version": 3
   },
   "file_extension": ".py",
   "mimetype": "text/x-python",
   "name": "python",
   "nbconvert_exporter": "python",
   "pygments_lexer": "ipython3",
   "version": "3.11.4"
  }
 },
 "nbformat": 4,
 "nbformat_minor": 2
}
